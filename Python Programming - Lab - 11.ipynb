{
 "cells": [
  {
   "attachments": {},
   "cell_type": "markdown",
   "metadata": {},
   "source": [
    "<a href='https://www.darshan.ac.in/'> <img src='https://www.darshan.ac.in/Content/media/DU_Logo.svg' width=\"250\" height=\"300\"/></a>\n",
    "<pre>\n",
    "<center><b><h1>Python Programming - 2301CS404</b></center>\n",
    "<center><b><h1>Lab - 11</b></center>    \n",
    "<pre>"
   ]
  },
  {
   "cell_type": "markdown",
   "metadata": {},
   "source": [
    "# Modules"
   ]
  },
  {
   "cell_type": "markdown",
   "metadata": {},
   "source": [
    "### 01) WAP to create Calculator module which defines functions like add, sub,mul and div. \n",
    "### Create another .py file that uses the functions available in Calculator module."
   ]
  },
  {
   "cell_type": "code",
   "execution_count": 3,
   "metadata": {},
   "outputs": [
    {
     "name": "stdin",
     "output_type": "stream",
     "text": [
      "Enter the first number:  10\n",
      "Enter the second number:  2\n"
     ]
    },
    {
     "name": "stdout",
     "output_type": "stream",
     "text": [
      "\n",
      "Select operation:\n",
      "1. Add\n",
      "2. Subtract\n",
      "3. Multiply\n",
      "4. Divide\n"
     ]
    },
    {
     "name": "stdin",
     "output_type": "stream",
     "text": [
      "Enter choice (1/2/3/4):  1\n"
     ]
    },
    {
     "name": "stdout",
     "output_type": "stream",
     "text": [
      "10.0 + 2.0 = 12.0\n"
     ]
    }
   ],
   "source": [
    "import Calculator\n",
    "\n",
    "num1 = float(input(\"Enter the first number: \"))\n",
    "num2 = float(input(\"Enter the second number: \"))\n",
    "\n",
    "print(\"\\nSelect operation:\")\n",
    "print(\"1. Add\")\n",
    "print(\"2. Subtract\")\n",
    "print(\"3. Multiply\")\n",
    "print(\"4. Divide\")\n",
    "\n",
    "choice = input(\"Enter choice (1/2/3/4): \")\n",
    "\n",
    "if choice == '1':\n",
    "    print(f\"{num1} + {num2} = {Calculator.add(num1, num2)}\")\n",
    "elif choice == '2':\n",
    "    print(f\"{num1} - {num2} = {Calculator.sub(num1, num2)}\")\n",
    "elif choice == '3':\n",
    "    print(f\"{num1} * {num2} = {Calculator.mul(num1, num2)}\")\n",
    "elif choice == '4':\n",
    "    print(f\"{num1} / {num2} = {Calculator.div(num1, num2)}\")\n",
    "else:\n",
    "    print(\"Invalid input! Please choose a valid operation.\")\n"
   ]
  },
  {
   "cell_type": "markdown",
   "metadata": {},
   "source": [
    "### 02) WAP to pick a random character from a given String."
   ]
  },
  {
   "cell_type": "code",
   "execution_count": 5,
   "metadata": {},
   "outputs": [
    {
     "name": "stdin",
     "output_type": "stream",
     "text": [
      "Enter a string:  Smit\n"
     ]
    },
    {
     "name": "stdout",
     "output_type": "stream",
     "text": [
      "Random character: t\n"
     ]
    }
   ],
   "source": [
    "import random\n",
    "\n",
    "string = input(\"Enter a string: \")\n",
    "random_char = random.choice(string)\n",
    "print(\"Random character:\", random_char)"
   ]
  },
  {
   "cell_type": "markdown",
   "metadata": {},
   "source": [
    "### 03) WAP to pick a random element from a given list."
   ]
  },
  {
   "cell_type": "code",
   "execution_count": 7,
   "metadata": {},
   "outputs": [
    {
     "name": "stdin",
     "output_type": "stream",
     "text": [
      "Enter a list of elements (comma separated):  1,2,3,4,5,6,7\n"
     ]
    },
    {
     "name": "stdout",
     "output_type": "stream",
     "text": [
      "Random element: 4\n"
     ]
    }
   ],
   "source": [
    "import random\n",
    "\n",
    "l = input(\"Enter a list of elements (comma separated): \").split(',')\n",
    "random_element = random.choice(l)\n",
    "print(\"Random element:\", random_element)"
   ]
  },
  {
   "cell_type": "markdown",
   "metadata": {},
   "source": [
    "### 04) WAP to roll a dice in such a way that every time you get the same number."
   ]
  },
  {
   "cell_type": "code",
   "execution_count": 15,
   "metadata": {},
   "outputs": [
    {
     "name": "stdout",
     "output_type": "stream",
     "text": [
      "Rolled number: 6\n"
     ]
    }
   ],
   "source": [
    "import random\n",
    "\n",
    "dice_roll = random.randint(6,6)\n",
    "print(\"Rolled number:\", dice_roll)"
   ]
  },
  {
   "cell_type": "markdown",
   "metadata": {},
   "source": [
    "### 05) WAP to generate 3 random integers between 100 and 999 which is divisible by 5."
   ]
  },
  {
   "cell_type": "code",
   "execution_count": 18,
   "metadata": {},
   "outputs": [
    {
     "name": "stdout",
     "output_type": "stream",
     "text": [
      "[375, 385, 855]\n"
     ]
    }
   ],
   "source": [
    "import random\n",
    "\n",
    "def generate_random_numbers():\n",
    "    numbers = []\n",
    "    while len(numbers) < 3:\n",
    "        num = random.randint(100, 999)\n",
    "        if num % 5 == 0:\n",
    "            numbers.append(num)\n",
    "    return numbers\n",
    "\n",
    "random_numbers = generate_random_numbers()\n",
    "print(random_numbers)"
   ]
  },
  {
   "cell_type": "markdown",
   "metadata": {},
   "source": [
    "### 06) WAP to generate 100 random lottery tickets and pick two lucky tickets from it and announce them as Winner and Runner up respectively."
   ]
  },
  {
   "cell_type": "code",
   "execution_count": 19,
   "metadata": {},
   "outputs": [
    {
     "name": "stdout",
     "output_type": "stream",
     "text": [
      "Generated Lottery Tickets: [691699, 768126, 318467, 964163, 712405, 916043, 829087, 280842, 589558, 140502, 821374, 740904, 929010, 442602, 516664, 165149, 742101, 118598, 717801, 509611, 331116, 276848, 482648, 688337, 646808, 753175, 133224, 585729, 227276, 460970, 992651, 317229, 929703, 100627, 884378, 372796, 617742, 739111, 106514, 437337, 901360, 827201, 439524, 443763, 190594, 456190, 922798, 771201, 297442, 992641, 135757, 992940, 925790, 132246, 897293, 690508, 643429, 559286, 875248, 388750, 862087, 798188, 457890, 418166, 885048, 402677, 667637, 798568, 743566, 639617, 140064, 594527, 749951, 586662, 223866, 799021, 887337, 246236, 193653, 926524, 558022, 269433, 526164, 246186, 782853, 851348, 954767, 707657, 277250, 444553, 460714, 578229, 667115, 195381, 344858, 445725, 167208, 669262, 521800, 639120]\n",
      "\n",
      "Winner Ticket: 690508\n",
      "Runner-up Ticket: 132246\n"
     ]
    }
   ],
   "source": [
    "import random\n",
    "\n",
    "lottery_tickets = [random.randint(100000, 999999) for _ in range(100)]\n",
    "\n",
    "winner, runner_up = random.sample(lottery_tickets, 2)\n",
    "\n",
    "print(\"Generated Lottery Tickets:\", lottery_tickets)\n",
    "print(\"\\nWinner Ticket:\", winner)\n",
    "print(\"Runner-up Ticket:\", runner_up)"
   ]
  },
  {
   "cell_type": "markdown",
   "metadata": {},
   "source": [
    "### 07) WAP to print current date and time in Python."
   ]
  },
  {
   "cell_type": "code",
   "execution_count": 20,
   "metadata": {},
   "outputs": [
    {
     "name": "stdout",
     "output_type": "stream",
     "text": [
      "Current Date and Time: 2025-02-10 10:42:46.552576\n"
     ]
    }
   ],
   "source": [
    "from datetime import datetime\n",
    "\n",
    "current_datetime = datetime.now()\n",
    "print(\"Current Date and Time:\", current_datetime)"
   ]
  },
  {
   "cell_type": "markdown",
   "metadata": {},
   "source": [
    "### 08) Subtract a week (7 days) from a given date in Python."
   ]
  },
  {
   "cell_type": "code",
   "execution_count": 22,
   "metadata": {},
   "outputs": [
    {
     "name": "stdout",
     "output_type": "stream",
     "text": [
      "Original Date: 2025-02-10 00:00:00\n",
      "New Date after subtracting 7 days: 2025-02-03 00:00:00\n"
     ]
    }
   ],
   "source": [
    "from datetime import datetime, timedelta\n",
    "\n",
    "given_date = datetime(2025, 2, 10)\n",
    "new_date = given_date - timedelta(days=7)\n",
    "\n",
    "print(\"Original Date:\", given_date)\n",
    "print(\"New Date after subtracting 7 days:\", new_date)"
   ]
  },
  {
   "cell_type": "markdown",
   "metadata": {},
   "source": [
    "### 09) WAP to Calculate number of days between two given dates."
   ]
  },
  {
   "cell_type": "code",
   "execution_count": 24,
   "metadata": {},
   "outputs": [
    {
     "name": "stdout",
     "output_type": "stream",
     "text": [
      "Number of days between the two dates: 9\n"
     ]
    }
   ],
   "source": [
    "from datetime import datetime\n",
    "\n",
    "date1 = datetime(2025, 2, 1)\n",
    "date2 = datetime(2025, 2, 10)\n",
    "\n",
    "difference = date2 - date1\n",
    "print(\"Number of days between the two dates:\", difference.days)"
   ]
  },
  {
   "cell_type": "markdown",
   "metadata": {},
   "source": [
    "### 10) WAP to Find the day of the week of a given date.(i.e. wether it is sunday/monday/tuesday/etc.)"
   ]
  },
  {
   "cell_type": "code",
   "execution_count": 26,
   "metadata": {},
   "outputs": [
    {
     "name": "stdin",
     "output_type": "stream",
     "text": [
      "Enter the date (YYYY-MM-DD):  2025-02-10\n"
     ]
    },
    {
     "name": "stdout",
     "output_type": "stream",
     "text": [
      "The day of the week is: Monday\n"
     ]
    }
   ],
   "source": [
    "from datetime import datetime\n",
    "\n",
    "date_str = input(\"Enter the date (YYYY-MM-DD): \")\n",
    "\n",
    "date = datetime.strptime(date_str, \"%Y-%m-%d\")\n",
    "day_of_week = date.strftime(\"%A\")\n",
    "\n",
    "print(\"The day of the week is:\", day_of_week)"
   ]
  },
  {
   "cell_type": "markdown",
   "metadata": {},
   "source": [
    "### 11) WAP to demonstrate the use of date time module."
   ]
  },
  {
   "cell_type": "code",
   "execution_count": null,
   "metadata": {},
   "outputs": [],
   "source": []
  },
  {
   "cell_type": "markdown",
   "metadata": {},
   "source": [
    "### 12) WAP to demonstrate the use of the math module."
   ]
  },
  {
   "cell_type": "code",
   "execution_count": null,
   "metadata": {},
   "outputs": [],
   "source": []
  }
 ],
 "metadata": {
  "kernelspec": {
   "display_name": "Python 3 (ipykernel)",
   "language": "python",
   "name": "python3"
  },
  "language_info": {
   "codemirror_mode": {
    "name": "ipython",
    "version": 3
   },
   "file_extension": ".py",
   "mimetype": "text/x-python",
   "name": "python",
   "nbconvert_exporter": "python",
   "pygments_lexer": "ipython3",
   "version": "3.12.7"
  }
 },
 "nbformat": 4,
 "nbformat_minor": 4
}
