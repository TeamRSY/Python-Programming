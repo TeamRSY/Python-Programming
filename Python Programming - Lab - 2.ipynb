{
 "cells": [
  {
   "cell_type": "markdown",
   "metadata": {},
   "source": [
    "\n",
    "<a href='https://www.darshan.ac.in/'> <img src='https://www.darshan.ac.in/Content/media/DU_Logo.svg' width=\"250\" height=\"300\"/></a>\n",
    "<pre>\n",
    "<center><b><h1>Python Programming - 2301CS404</b></center>\n",
    "<center><b><h1>Lab - 2</b></center>    \n",
    "<pre>"
   ]
  },
  {
   "cell_type": "markdown",
   "metadata": {},
   "source": [
    "# if..else.."
   ]
  },
  {
   "cell_type": "markdown",
   "metadata": {},
   "source": [
    "### 01) WAP to check whether the given number is positive or negative."
   ]
  },
  {
   "cell_type": "code",
   "execution_count": 5,
   "metadata": {},
   "outputs": [
    {
     "name": "stdin",
     "output_type": "stream",
     "text": [
      "Enter A Number :  -1\n"
     ]
    },
    {
     "name": "stdout",
     "output_type": "stream",
     "text": [
      "Given Number Is Negative\n"
     ]
    }
   ],
   "source": [
    "num = int(input(\"Enter A Number : \"))\n",
    "\n",
    "if num>0 :\n",
    "    print(\"Given Number Is Positive\")\n",
    "else :\n",
    "    print(\"Given Number Is Negative\")"
   ]
  },
  {
   "cell_type": "markdown",
   "metadata": {},
   "source": [
    "### 02) WAP to check whether the given number is odd or even."
   ]
  },
  {
   "cell_type": "code",
   "execution_count": 9,
   "metadata": {},
   "outputs": [
    {
     "name": "stdin",
     "output_type": "stream",
     "text": [
      "Enter A Number :  5\n"
     ]
    },
    {
     "name": "stdout",
     "output_type": "stream",
     "text": [
      "Given Number Is Odd\n"
     ]
    }
   ],
   "source": [
    "num = int(input(\"Enter A Number : \"))\n",
    "\n",
    "if num % 2 == 0 :\n",
    "    print(\"Given Number Is Even\")\n",
    "else :\n",
    "    print(\"Given Number Is Odd\")"
   ]
  },
  {
   "cell_type": "markdown",
   "metadata": {},
   "source": [
    "### 03) WAP to find out largest number from given two numbers using simple if and ternary operator."
   ]
  },
  {
   "cell_type": "code",
   "execution_count": 27,
   "metadata": {},
   "outputs": [
    {
     "name": "stdin",
     "output_type": "stream",
     "text": [
      "Enter First Number :  1\n",
      "Enter Second Number :  5\n"
     ]
    },
    {
     "name": "stdout",
     "output_type": "stream",
     "text": [
      "Largest Number Is 5\n"
     ]
    }
   ],
   "source": [
    "num1 = int(input(\"Enter First Number : \"))\n",
    "num2 = int(input(\"Enter Second Number : \"))\n",
    "\n",
    "print(\"Largest Number Is\", num1 if num1>num2 else num2) "
   ]
  },
  {
   "cell_type": "code",
   "execution_count": 29,
   "metadata": {},
   "outputs": [
    {
     "name": "stdin",
     "output_type": "stream",
     "text": [
      "Enter First Number :  10\n",
      "Enter Second Number :  0\n"
     ]
    },
    {
     "name": "stdout",
     "output_type": "stream",
     "text": [
      "Largest Number Is 10\n"
     ]
    }
   ],
   "source": [
    "num1 = int(input(\"Enter First Number : \"))\n",
    "num2 = int(input(\"Enter Second Number : \"))\n",
    "\n",
    "if num1 > num2 :\n",
    "    print(\"Largest Number Is\" ,num1)\n",
    "else :\n",
    "    print(\"Largest Number Is\" ,num2)"
   ]
  },
  {
   "cell_type": "markdown",
   "metadata": {},
   "source": [
    "### 04) WAP to find out largest number from given three numbers."
   ]
  },
  {
   "cell_type": "code",
   "execution_count": 25,
   "metadata": {},
   "outputs": [
    {
     "name": "stdin",
     "output_type": "stream",
     "text": [
      "Enter First Number :  10\n",
      "Enter Second Number :  15\n",
      "Enter Third Number :  3\n"
     ]
    },
    {
     "name": "stdout",
     "output_type": "stream",
     "text": [
      "Largest Number Is 15\n"
     ]
    }
   ],
   "source": [
    "num1 = int(input(\"Enter First Number : \"))\n",
    "num2 = int(input(\"Enter Second Number : \"))\n",
    "num3 = int(input(\"Enter Third Number : \"))\n",
    "\n",
    "if num1>num2 and num1>num3 :\n",
    "    print(\"Largest Number Is\" ,num1)\n",
    "elif num2>num3 :\n",
    "    print(\"Largest Number Is\" ,num2)\n",
    "else :\n",
    "    print(\"Largest Number Is\" ,num3)"
   ]
  },
  {
   "cell_type": "markdown",
   "metadata": {},
   "source": [
    "### 05) WAP to check whether the given year is leap year or not.\n",
    "[If a year can be divisible by 4 but not divisible by 100 then it is leap year but if it is divisible by 400 then it is leap year]"
   ]
  },
  {
   "cell_type": "code",
   "execution_count": 35,
   "metadata": {},
   "outputs": [
    {
     "name": "stdin",
     "output_type": "stream",
     "text": [
      "Enter A Year : 2024\n"
     ]
    },
    {
     "name": "stdout",
     "output_type": "stream",
     "text": [
      "2024 Is Leap Year\n"
     ]
    }
   ],
   "source": [
    "year = int(input(\"Enter A Year :\"))\n",
    "\n",
    "if (year%4==0 and year%100!=0) or (year%400==0) :\n",
    "    print(year, \"Is Leap Year\")\n",
    "else :\n",
    "    print(year, \"Is Not Leap Year\")"
   ]
  },
  {
   "cell_type": "markdown",
   "metadata": {},
   "source": [
    "### 06) WAP in python to display the name of the day according to the number given by the user."
   ]
  },
  {
   "cell_type": "code",
   "execution_count": 41,
   "metadata": {},
   "outputs": [
    {
     "name": "stdin",
     "output_type": "stream",
     "text": [
      "Enter a Number :  0\n"
     ]
    },
    {
     "name": "stdout",
     "output_type": "stream",
     "text": [
      "Please Enter A NUmber Between 1 to  7\n"
     ]
    }
   ],
   "source": [
    "num = int(input(\"Enter a Number : \"))\n",
    "\n",
    "if num==1 :\n",
    "    print(\"Today Is Sunday\")\n",
    "elif num==2 :\n",
    "    print(\"Today Is Monday\")\n",
    "elif num==3 :\n",
    "    print(\"Today Is Tuesday\")\n",
    "elif num==6 :\n",
    "    print(\"Today Is Wednesday\")\n",
    "elif num==4 :\n",
    "    print(\"Today Is Thrusday\")\n",
    "elif num==5 :\n",
    "    print(\"Today Is Friday\")\n",
    "elif num==6 :\n",
    "    print(\"Today Is Saturday\")\n",
    "else :\n",
    "    print(\"Please Enter A NUmber Between 1 to  7\")"
   ]
  },
  {
   "cell_type": "markdown",
   "metadata": {},
   "source": [
    "### 07) WAP to implement simple calculator which performs (add,sub,mul,div) of two no. based on user input."
   ]
  },
  {
   "cell_type": "code",
   "execution_count": 49,
   "metadata": {},
   "outputs": [
    {
     "name": "stdin",
     "output_type": "stream",
     "text": [
      "Enter First Number : 1\n",
      "Enter Second Number : 5\n"
     ]
    },
    {
     "name": "stdout",
     "output_type": "stream",
     "text": [
      "Enter 1 For Addition, 2 For Subtraction, 3 For Multiplication, 4 For Division\n"
     ]
    },
    {
     "name": "stdin",
     "output_type": "stream",
     "text": [
      "Enter Number For Arithmatic Operation : 3\n"
     ]
    },
    {
     "name": "stdout",
     "output_type": "stream",
     "text": [
      "Multiplication Is 5\n"
     ]
    }
   ],
   "source": [
    "num1 = int(input(\"Enter First Number :\"))\n",
    "num2 = int(input(\"Enter Second Number :\"))\n",
    "\n",
    "print(\"Enter 1 For Addition, 2 For Subtraction, 3 For Multiplication, 4 For Division\")\n",
    "n = int(input(\"Enter Number For Arithmatic Operation :\"))\n",
    "\n",
    "if n==1 :\n",
    "    print(\"Addition Is\" ,num1 + num2)\n",
    "elif n==2 :\n",
    "    print(\"Subtraction Is\" ,num1 - num2)\n",
    "elif n==3 :\n",
    "    print(\"Multiplication Is\" ,num1 * num2)\n",
    "elif n==4 :\n",
    "    print(\"Division Is\" ,num1 / num2)\n",
    "else :\n",
    "    print(\"Enter A Valid Choice\")"
   ]
  },
  {
   "cell_type": "markdown",
   "metadata": {},
   "source": [
    "### 08) WAP to read marks of five subjects. Calculate percentage and print class accordingly. \n",
    "Fail below 35 </br>\n",
    "Pass Class between 35 to 45 </br>\n",
    "Second Class</br>\n",
    "between 45 to 60</br>\n",
    "First Class between 60 to 70</br> \n",
    "Distinction if more than 70"
   ]
  },
  {
   "cell_type": "code",
   "execution_count": 1,
   "metadata": {},
   "outputs": [
    {
     "name": "stdin",
     "output_type": "stream",
     "text": [
      "Enter Mark of  Subject 1: 90\n",
      "Enter Mark of  Subject 2: 85\n",
      "Enter Mark of  Subject 3: 92\n",
      "Enter Mark of  Subject 4: 87\n",
      "Enter Mark of  Subject 5: 97\n"
     ]
    },
    {
     "name": "stdout",
     "output_type": "stream",
     "text": [
      "Distinction\n"
     ]
    }
   ],
   "source": [
    "m1=int(input('Enter Mark of  Subject 1:'))\n",
    "m2=int(input('Enter Mark of  Subject 2:'))\n",
    "m3=int(input('Enter Mark of  Subject 3:'))\n",
    "m4=int(input('Enter Mark of  Subject 4:'))\n",
    "m5=int(input('Enter Mark of  Subject 5:'))\n",
    "if m1 > 100 or m2 > 100 or m3 > 100 or m4 > 100 or m5 > 100:\n",
    "    print('Please enter marks between 1-100 for all subjects!')\n",
    "else :\n",
    "    per=(m1+m2+m3+m4+m5)/5\n",
    "    if (per<35):\n",
    "        print ('Fail!')\n",
    "    elif (35<per<45):\n",
    "        print('Pass Class')\n",
    "    elif (45<per<60):\n",
    "        print('Second Class')\n",
    "    elif (60<per<70):\n",
    "        print('First Class')\n",
    "    elif (per>70):\n",
    "        print('Distinction')"
   ]
  },
  {
   "cell_type": "markdown",
   "metadata": {},
   "source": [
    "### 09) Three sides of a triangle are entered through the keyboard, WAP to check whether the triangle is isosceles, equilateral, scalene or right-angled triangle."
   ]
  },
  {
   "cell_type": "code",
   "execution_count": null,
   "metadata": {},
   "outputs": [],
   "source": [
    "a=int(input('Enter Side 1:'))\n",
    "b=int(input('Enter Side 2:'))\n",
    "c=int(input('Enter Side 3:'))\n",
    "# check triangle is valid\n",
    "if a+b>c and b+c>a and c+a>b :\n",
    "    #check for equilateral\n",
    "    if a==b==c :\n",
    "        print('The triangle is Equilateral')\n",
    "    #check for Isosceles\n",
    "    elif a==b or b==c or c==a :\n",
    "        print('The triangle is Isosceles')\n",
    "    #check for Right-angled triangle\n",
    "    elif (a*2+b2==c2) or (b2+c2==a2) or (c2+a2==b*2) :\n",
    "        print('The triangle is Right-angled triangle')\n",
    "    #check for Scalene\n",
    "    else :\n",
    "        print('The triangle is Scalene')\n",
    "else :\n",
    "    print('The given sides do not form a valid triangle')"
   ]
  },
  {
   "cell_type": "markdown",
   "metadata": {},
   "source": [
    "### 10) WAP to find the second largest number among three user input numbers."
   ]
  },
  {
   "cell_type": "code",
   "execution_count": null,
   "metadata": {},
   "outputs": [],
   "source": [
    "num1=int(input('Enter first number:'))\n",
    "num2=int(input('Enter second number:'))\n",
    "num3=int(input('Enter third number:'))\n",
    "if (num1>num2 and num1<num3) or (num1>num3 and num1<num2) :\n",
    "    print('Second Largest number is :',num1)\n",
    "elif (num2>num1 and num2<num3) or (num2>num3 and num2<num1):\n",
    "    print('Second Largest number is :',num2)\n",
    "else :\n",
    "    print('Second Largest number is :',num3)"
   ]
  },
  {
   "cell_type": "markdown",
   "metadata": {},
   "source": [
    "### 11) WAP to calculate electricity bill based on following criteria. Which takes the unit from the user.\n",
    "a. First 1 to 50 units – Rs. 2.60/unit</br>\n",
    "b. Next 50 to 100 units – Rs. 3.25/unit</br>\n",
    "c. Next 100 to 200 units – Rs. 5.26/unit</br>\n",
    "d. above 200 units – Rs. 8.45/unit"
   ]
  },
  {
   "cell_type": "code",
   "execution_count": null,
   "metadata": {},
   "outputs": [],
   "source": [
    "u=float(input('Enter the number of units:'))\n",
    "bill=0.0\n",
    "if u<=50 :\n",
    "    bill=u*2.60\n",
    "elif u<=100 :\n",
    "    bill=(50*2.60)+((u-50)*3.25);\n",
    "elif u<=200 :\n",
    "    bill=(50 * 2.60) + (50 * 3.25) + ((u - 100) * 5.26)\n",
    "else :\n",
    "     bill = (50 * 2.60) + (50 * 3.25) + (100 * 5.26) + ((u - 200) * 8.45)\n",
    "print('Your electricity bill is: Rs.',bill)"
   ]
  }
 ],
 "metadata": {
  "kernelspec": {
   "display_name": "Python 3 (ipykernel)",
   "language": "python",
   "name": "python3"
  },
  "language_info": {
   "codemirror_mode": {
    "name": "ipython",
    "version": 3
   },
   "file_extension": ".py",
   "mimetype": "text/x-python",
   "name": "python",
   "nbconvert_exporter": "python",
   "pygments_lexer": "ipython3",
   "version": "3.12.7"
  }
 },
 "nbformat": 4,
 "nbformat_minor": 4
}
