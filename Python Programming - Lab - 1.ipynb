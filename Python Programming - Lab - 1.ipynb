{
 "cells": [
  {
   "cell_type": "markdown",
   "id": "59ccfa43-8a56-4782-8d1c-6c485159d98e",
   "metadata": {},
   "source": [
    "1. WAP to print “Hello World”"
   ]
  },
  {
   "cell_type": "code",
   "execution_count": 4,
   "id": "23290e51-dc82-4e21-beba-69999fd4a5d7",
   "metadata": {},
   "outputs": [
    {
     "name": "stdout",
     "output_type": "stream",
     "text": [
      "Hello world\n"
     ]
    }
   ],
   "source": [
    "print ('Hello world')"
   ]
  },
  {
   "cell_type": "markdown",
   "id": "dfe72176-62ed-4270-b496-deeaf504f860",
   "metadata": {},
   "source": [
    "2. WAP to print your address i) using single print ii) using multiple print"
   ]
  },
  {
   "cell_type": "code",
   "execution_count": null,
   "id": "f9e3b787-6f9a-44e4-b66c-1dbc82bcb3cc",
   "metadata": {},
   "outputs": [
    {
     "name": "stdout",
     "output_type": "stream",
     "text": [
      "Address:/123 Street/sanala road,morbi/ZIP Code: 12345\n"
     ]
    }
   ],
   "source": [
    "\n",
    "print(\"Address:\",\"123 Street\",\"sanala road,morbi\",\"ZIP Code: 12345\" , sep=('/'))\n"
   ]
  },
  {
   "cell_type": "code",
   "execution_count": null,
   "id": "0d1d9321-c270-4300-ace4-71680a01a757",
   "metadata": {},
   "outputs": [
    {
     "name": "stdout",
     "output_type": "stream",
     "text": [
      "Address:\n",
      "123 Street\n",
      "sanala road,morbi\n",
      "ZIP Code: 12345\n"
     ]
    }
   ],
   "source": [
    "print(\"Address:\")\n",
    "print(\"123 Street\")\n",
    "print(\"sanala road,morbi\")\n",
    "print(\"ZIP Code: 12345\")"
   ]
  },
  {
   "cell_type": "markdown",
   "id": "54a42777-cf8f-4703-b774-103081057a4d",
   "metadata": {},
   "source": [
    "3. WAP to print addition of 2 numbers (without input function)"
   ]
  },
  {
   "cell_type": "code",
   "execution_count": null,
   "id": "d8274e59-3a32-4203-bdeb-26c0b96286ef",
   "metadata": {},
   "outputs": [
    {
     "name": "stdout",
     "output_type": "stream",
     "text": [
      "Sum = 11\n"
     ]
    }
   ],
   "source": [
    "a,b=5,6\n",
    "print('Sum =',(a+b))"
   ]
  },
  {
   "cell_type": "markdown",
   "id": "33479df5-ba85-4f9f-9fa1-3efbcfc7b1a6",
   "metadata": {},
   "source": [
    "4. WAP to calculate and print average of 2 numbers (without input function)"
   ]
  },
  {
   "cell_type": "code",
   "execution_count": null,
   "id": "34708f98-1f7d-4d9f-8bbf-a18a23e289e2",
   "metadata": {},
   "outputs": [
    {
     "name": "stdout",
     "output_type": "stream",
     "text": [
      "Average = 5.0\n"
     ]
    }
   ],
   "source": [
    "a,b=4,6\n",
    "print('Average =',(a+b)/2)"
   ]
  },
  {
   "cell_type": "markdown",
   "id": "905f9302-d139-46c9-a2ef-5a6d803736b6",
   "metadata": {},
   "source": [
    " 5. WAp to add two number entered by user."
   ]
  },
  {
   "cell_type": "code",
   "execution_count": null,
   "id": "672a3107-8e08-4ed2-b7aa-cb35171a60c6",
   "metadata": {},
   "outputs": [
    {
     "name": "stdout",
     "output_type": "stream",
     "text": [
      "Enter first number 5\n",
      "Enter second number 2\n"
     ]
    },
    {
     "name": "stdout",
     "output_type": "stream",
     "text": [
      "Sum of number: 7\n"
     ]
    }
   ],
   "source": [
    "a=int(input('Enter first number'))\n",
    "b=int(input('Enter second number'))\n",
    "print('Sum of number:',(a+b))"
   ]
  },
  {
   "cell_type": "markdown",
   "id": "c3446879-65c5-4901-ac63-12bef032f4e2",
   "metadata": {},
   "source": [
    " 6. WAP to calculate area of circle."
   ]
  },
  {
   "cell_type": "code",
   "execution_count": null,
   "id": "a337ace1-ab0e-4066-8c07-783159876744",
   "metadata": {},
   "outputs": [
    {
     "name": "stdout",
     "output_type": "stream",
     "text": [
      "Enter radius 1\n"
     ]
    },
    {
     "name": "stdout",
     "output_type": "stream",
     "text": [
      "Area of circle is 3.14\n"
     ]
    }
   ],
   "source": [
    "r=int(input('Enter radius'))\n",
    "area=3.14*r*r\n",
    "print('Area of circle is',area)"
   ]
  },
  {
   "cell_type": "markdown",
   "id": "cba736db-34c3-457a-b65e-9094c04b8d0b",
   "metadata": {},
   "source": [
    "7. Purposefully raise Indentation Error and Correct it"
   ]
  },
  {
   "cell_type": "code",
   "execution_count": null,
   "id": "bd633f54-f8b6-444c-aa40-5b3a5748fad2",
   "metadata": {},
   "outputs": [
    {
     "name": "stdout",
     "output_type": "stream",
     "text": [
      "Yes\n"
     ]
    }
   ],
   "source": [
    "a=6\n",
    "if a>5:\n",
    "    print('Yes')\n",
    "else:\n",
    "    print('No')\n"
   ]
  },
  {
   "cell_type": "markdown",
   "id": "1bd62f16-3b2b-4464-9f8e-016ece403267",
   "metadata": {},
   "source": [
    " 8. WAP to calculate simple interest."
   ]
  },
  {
   "cell_type": "code",
   "execution_count": null,
   "id": "5dc25a17-998f-4a2e-8969-82176d3d8070",
   "metadata": {},
   "outputs": [
    {
     "name": "stdout",
     "output_type": "stream",
     "text": [
      "Enter number 100\n",
      "Enter number 100\n",
      "Enter number 100\n"
     ]
    },
    {
     "name": "stdout",
     "output_type": "stream",
     "text": [
      "Interest= 3.0\n"
     ]
    }
   ],
   "source": [
    "p=int(input('Enter number'))\n",
    "r=int(input('Enter number'))\n",
    "t=int(input('Enter number'))\n",
    "print('Interest=',(p+r+t)/100)"
   ]
  },
  {
   "cell_type": "code",
   "execution_count": null,
   "id": "af5aa8d1-9117-4846-ba76-5bd3187fe179",
   "metadata": {},
   "outputs": [],
   "source": []
  }
 ],
 "metadata": {
  "kernelspec": {
   "display_name": "Python 3 (ipykernel)",
   "language": "python",
   "name": "python3"
  },
  "language_info": {
   "codemirror_mode": {
    "name": "ipython",
    "version": 3
   },
   "file_extension": ".py",
   "mimetype": "text/x-python",
   "name": "python",
   "nbconvert_exporter": "python",
   "pygments_lexer": "ipython3",
   "version": "3.12.7"
  }
 },
 "nbformat": 4,
 "nbformat_minor": 5
}
